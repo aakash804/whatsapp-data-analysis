{
 "cells": [
  {
   "cell_type": "code",
   "execution_count": 1,
   "metadata": {},
   "outputs": [
    {
     "name": "stdout",
     "output_type": "stream",
     "text": [
      "Requirement already satisfied: emoji in c:\\users\\aakash sharma\\anaconda3\\envs\\tft\\lib\\site-packages (0.5.4)\n"
     ]
    }
   ],
   "source": [
    "import re\n",
    "import numpy as np\n",
    "import pandas as pd\n",
    "import matplotlib.pyplot as plt\n",
    "import seaborn as sns\n",
    "from wordcloud import WordCloud, STOPWORDS\n",
    "# !pip install emoji\n",
    "import emoji\n",
    "from collections import Counter"
   ]
  },
  {
   "cell_type": "markdown",
   "metadata": {},
   "source": [
    "## Data Preprocessing\n",
    "\n",
    "* Regex cheatsheet\n",
    "    * https://www.rexegg.com/regex-quickstart.html\n",
    "* Datetime format\n",
    "    * http://strftime.org/\n",
    "    \n",
    "```\n",
    "def rawToDf(file):\n",
    "    with open(file, 'r') as raw_data:\n",
    "        raw_string = ' '.join(raw_data.read().split('\\n')) # converting the list split by newline char. as one whole string as there can be multi-line messages\n",
    "        user_msg = re.split('\\d{1,2}/\\d{1,2}/\\d{2,4},\\s\\d{1,2}:\\d{2}\\s[APap][mM]\\s-\\s', raw_string) [1:] # splits at all the date-time pattern, resulting in list of all the messages with user names\n",
    "        date_time = re.findall('\\d{1,2}/\\d{1,2}/\\d{2,4},\\s\\d{1,2}:\\d{2}\\s[APap][mM]\\s-\\s', raw_string) # finds all the date-time patterns\n",
    "        \n",
    "        df = pd.DataFrame({'date_time': date_time, 'user_msg': user_msg}) # exporting it to a df\n",
    "   \n",
    "    # converting date-time pattern which is of type String to type datetime, format is to be specified for the whole string where the placeholders are extracted by the method    \n",
    "    try:\n",
    "        df['date_time'] = pd.to_datetime(df['date_time'], format='%m/%d/%y, %I:%M %p - ') #10/20/19, 10:24 pm - \n",
    "    except:\n",
    "        df['date_time'] = pd.to_datetime(df['date_time'], format='%d/%m/%Y, %I:%M %p - ') #20/10/2019, 10:24 pm -\n",
    "    \n",
    "    # split user and msg \n",
    "    usernames = []\n",
    "    msgs = []\n",
    "    for i in df['user_msg']:\n",
    "        a = re.split('([\\w\\W]+?):\\s', i) # lazy pattern match to first {user_name}: pattern and spliting it aka each msg from a user\n",
    "        if(a[1:]): # user typed messages\n",
    "            usernames.append(a[1])\n",
    "            msgs.append(a[2])\n",
    "        else: # other notifications in the group(eg: someone was added, some left ...)\n",
    "            usernames.append(\"grp_notif\")\n",
    "            msgs.append(a[0])\n",
    "\n",
    "    # creating new columns         \n",
    "    df['user'] = usernames\n",
    "    df['msg'] = msgs\n",
    "\n",
    "    # dropping the old user_msg col.\n",
    "    df.drop('user_msg', axis=1, inplace=True)\n",
    "    \n",
    "    return df\n",
    "```"
   ]
  },
  {
   "cell_type": "code",
   "execution_count": 11,
   "metadata": {},
   "outputs": [],
   "source": [
    "file=open('WhatsApp Chat with Bca 2017 batch.txt', encoding='utf8')\n",
    "x1=file.read()\n"
   ]
  },
  {
   "cell_type": "code",
   "execution_count": 3,
   "metadata": {},
   "outputs": [],
   "source": [
    "def rawToDf(file):\n",
    "    with open(file, encoding='utf8') as raw_data:\n",
    "        raw_string = ' '.join(raw_data.read().split('\\n')) # converting the list split by newline char. as one whole string as there can be multi-line messages\n",
    "        user_msg = re.split('\\d{1,2}/\\d{1,2}/\\d{2,4},\\s\\d{1,2}:\\d{2}\\s[APap][mM]\\s-\\s', raw_string) [1:] # splits at all the date-time pattern, resulting in list of all the messages with user names\n",
    "        date_time = re.findall('\\d{1,2}/\\d{1,2}/\\d{2,4},\\s\\d{1,2}:\\d{2}\\s[APap][mM]\\s-\\s', raw_string) # finds all the date-time patterns\n",
    "\n",
    "        df = pd.DataFrame({'date_time': date_time, 'user_msg': user_msg}) # exporting it to a df\n",
    "\n",
    "    # converting date-time pattern which is of type String to type datetime, format is to be specified for the whole string where the placeholders are extracted by the method    \n",
    "    try:\n",
    "        df['date_time'] = pd.to_datetime(df['date_time'], format='%m/%d/%y, %I:%M %p - ') #10/20/19, 10:24 pm - %H:%M %p\n",
    "    except:\n",
    "        df['date_time'] = pd.to_datetime(df['date_time'], format='%d/%m/%Y, %I:%M %p - ') #20/10/2019, 10:24 pm - %I:%M %p\n",
    "\n",
    "    # split user and msg \n",
    "    usernames = []\n",
    "    msgs = []\n",
    "    for i in df['user_msg']:\n",
    "        a = re.split('([\\w\\W]+?):\\s', i) # lazy pattern match to first {user_name}: pattern and spliting it aka each msg from a user\n",
    "        if(a[1:]): # user typed messages\n",
    "            usernames.append(a[1])\n",
    "            msgs.append(a[2])\n",
    "        else: # other notifications in the group(eg: someone was added, some left ...)\n",
    "            usernames.append(\"grp_notif\")\n",
    "            msgs.append(a[0])\n",
    "\n",
    "    # creating new columns         \n",
    "    df['user'] = usernames\n",
    "    df['msg'] = msgs\n",
    "\n",
    "    # dropping the old user_msg col.\n",
    "    df.drop('user_msg', axis=1, inplace=True)\n",
    "\n",
    "    return df"
   ]
  },
  {
   "cell_type": "code",
   "execution_count": 4,
   "metadata": {},
   "outputs": [],
   "source": [
    "me = \"ankit (ip)\""
   ]
  },
  {
   "cell_type": "code",
   "execution_count": 5,
   "metadata": {},
   "outputs": [],
   "source": [
    "file='WhatsApp Chat with Bca 2017 batch.txt'\n",
    "df = pd.DataFrame()\n",
    "df = rawToDf(file)"
   ]
  },
  {
   "cell_type": "code",
   "execution_count": 6,
   "metadata": {},
   "outputs": [],
   "source": [
    "# https://regex101.com/     .........we can use this to check our regular expression"
   ]
  },
  {
   "cell_type": "code",
   "execution_count": 9,
   "metadata": {},
   "outputs": [
    {
     "data": {
      "text/html": [
       "<div>\n",
       "<style scoped>\n",
       "    .dataframe tbody tr th:only-of-type {\n",
       "        vertical-align: middle;\n",
       "    }\n",
       "\n",
       "    .dataframe tbody tr th {\n",
       "        vertical-align: top;\n",
       "    }\n",
       "\n",
       "    .dataframe thead th {\n",
       "        text-align: right;\n",
       "    }\n",
       "</style>\n",
       "<table border=\"1\" class=\"dataframe\">\n",
       "  <thead>\n",
       "    <tr style=\"text-align: right;\">\n",
       "      <th></th>\n",
       "      <th>date_time</th>\n",
       "      <th>user</th>\n",
       "      <th>msg</th>\n",
       "    </tr>\n",
       "  </thead>\n",
       "  <tbody>\n",
       "    <tr>\n",
       "      <th>0</th>\n",
       "      <td>2017-03-20 22:12:00</td>\n",
       "      <td>+91 97170 21451</td>\n",
       "      <td>😁😁</td>\n",
       "    </tr>\n",
       "    <tr>\n",
       "      <th>1</th>\n",
       "      <td>2017-03-21 12:01:00</td>\n",
       "      <td>+91 86838 58555</td>\n",
       "      <td>Abb konsa aane denge tjhe</td>\n",
       "    </tr>\n",
       "    <tr>\n",
       "      <th>2</th>\n",
       "      <td>2017-03-21 12:01:00</td>\n",
       "      <td>ankit (ip)</td>\n",
       "      <td>@918586850740 ni aaya?</td>\n",
       "    </tr>\n",
       "    <tr>\n",
       "      <th>3</th>\n",
       "      <td>2017-03-21 12:01:00</td>\n",
       "      <td>+91 86838 58555</td>\n",
       "      <td>Extempore ho liya</td>\n",
       "    </tr>\n",
       "    <tr>\n",
       "      <th>4</th>\n",
       "      <td>2017-03-21 12:01:00</td>\n",
       "      <td>ankit (ip)</td>\n",
       "      <td>Aane degge✌🏻</td>\n",
       "    </tr>\n",
       "    <tr>\n",
       "      <th>5</th>\n",
       "      <td>2017-03-21 12:02:00</td>\n",
       "      <td>ankit (ip)</td>\n",
       "      <td>TC bhi kr lio</td>\n",
       "    </tr>\n",
       "    <tr>\n",
       "      <th>6</th>\n",
       "      <td>2017-03-21 21:21:00</td>\n",
       "      <td>ankit (ip)</td>\n",
       "      <td>Bhai iss se bhi khtrnak hota h darr🤣 jb teri b...</td>\n",
       "    </tr>\n",
       "    <tr>\n",
       "      <th>7</th>\n",
       "      <td>2017-03-21 21:28:00</td>\n",
       "      <td>+91 86838 58555</td>\n",
       "      <td>Bc bhott mushkil se bcha tha mai</td>\n",
       "    </tr>\n",
       "    <tr>\n",
       "      <th>8</th>\n",
       "      <td>2017-03-21 21:28:00</td>\n",
       "      <td>+91 86838 58555</td>\n",
       "      <td>Saala ldko pe b gandi nazar rkhta h ye toh</td>\n",
       "    </tr>\n",
       "    <tr>\n",
       "      <th>9</th>\n",
       "      <td>2017-03-21 21:28:00</td>\n",
       "      <td>akshay (clg)</td>\n",
       "      <td></td>\n",
       "    </tr>\n",
       "    <tr>\n",
       "      <th>10</th>\n",
       "      <td>2017-03-22 21:25:00</td>\n",
       "      <td>aakash😉</td>\n",
       "      <td>&lt;Media omitted&gt;</td>\n",
       "    </tr>\n",
       "    <tr>\n",
       "      <th>11</th>\n",
       "      <td>2017-03-22 22:54:00</td>\n",
       "      <td>Arshpreet clg</td>\n",
       "      <td>🙏🏻🙏🏻😂😂</td>\n",
       "    </tr>\n",
       "    <tr>\n",
       "      <th>12</th>\n",
       "      <td>2017-03-22 23:15:00</td>\n",
       "      <td>ankit (ip)</td>\n",
       "      <td>😒😒😒😒</td>\n",
       "    </tr>\n",
       "    <tr>\n",
       "      <th>13</th>\n",
       "      <td>2017-03-22 23:15:00</td>\n",
       "      <td>ankit (ip)</td>\n",
       "      <td>Laddu chota bheem khata h😍</td>\n",
       "    </tr>\n",
       "    <tr>\n",
       "      <th>14</th>\n",
       "      <td>2017-03-22 23:15:00</td>\n",
       "      <td>+91 97170 21451</td>\n",
       "      <td>😂😂😂</td>\n",
       "    </tr>\n",
       "    <tr>\n",
       "      <th>15</th>\n",
       "      <td>2017-03-22 23:16:00</td>\n",
       "      <td>+91 86838 58555</td>\n",
       "      <td>&lt;Media omitted&gt;</td>\n",
       "    </tr>\n",
       "    <tr>\n",
       "      <th>16</th>\n",
       "      <td>2017-03-22 23:17:00</td>\n",
       "      <td>+91 86838 58555</td>\n",
       "      <td>Masow🤣🤣</td>\n",
       "    </tr>\n",
       "    <tr>\n",
       "      <th>17</th>\n",
       "      <td>2017-03-22 23:17:00</td>\n",
       "      <td>ankit (ip)</td>\n",
       "      <td>M chla sone😴 gudnyt😴</td>\n",
       "    </tr>\n",
       "    <tr>\n",
       "      <th>18</th>\n",
       "      <td>2017-03-22 23:17:00</td>\n",
       "      <td>+91 97170 21451</td>\n",
       "      <td>Me too</td>\n",
       "    </tr>\n",
       "    <tr>\n",
       "      <th>19</th>\n",
       "      <td>2017-03-22 23:17:00</td>\n",
       "      <td>+91 97170 21451</td>\n",
       "      <td>Gn</td>\n",
       "    </tr>\n",
       "  </tbody>\n",
       "</table>\n",
       "</div>"
      ],
      "text/plain": [
       "             date_time             user  \\\n",
       "0  2017-03-20 22:12:00  +91 97170 21451   \n",
       "1  2017-03-21 12:01:00  +91 86838 58555   \n",
       "2  2017-03-21 12:01:00       ankit (ip)   \n",
       "3  2017-03-21 12:01:00  +91 86838 58555   \n",
       "4  2017-03-21 12:01:00       ankit (ip)   \n",
       "5  2017-03-21 12:02:00       ankit (ip)   \n",
       "6  2017-03-21 21:21:00       ankit (ip)   \n",
       "7  2017-03-21 21:28:00  +91 86838 58555   \n",
       "8  2017-03-21 21:28:00  +91 86838 58555   \n",
       "9  2017-03-21 21:28:00     akshay (clg)   \n",
       "10 2017-03-22 21:25:00          aakash😉   \n",
       "11 2017-03-22 22:54:00    Arshpreet clg   \n",
       "12 2017-03-22 23:15:00       ankit (ip)   \n",
       "13 2017-03-22 23:15:00       ankit (ip)   \n",
       "14 2017-03-22 23:15:00  +91 97170 21451   \n",
       "15 2017-03-22 23:16:00  +91 86838 58555   \n",
       "16 2017-03-22 23:17:00  +91 86838 58555   \n",
       "17 2017-03-22 23:17:00       ankit (ip)   \n",
       "18 2017-03-22 23:17:00  +91 97170 21451   \n",
       "19 2017-03-22 23:17:00  +91 97170 21451   \n",
       "\n",
       "                                                  msg  \n",
       "0                                                 😁😁   \n",
       "1                          Abb konsa aane denge tjhe   \n",
       "2                             @918586850740 ni aaya?   \n",
       "3                                  Extempore ho liya   \n",
       "4                                       Aane degge✌🏻   \n",
       "5                                      TC bhi kr lio   \n",
       "6   Bhai iss se bhi khtrnak hota h darr🤣 jb teri b...  \n",
       "7                   Bc bhott mushkil se bcha tha mai   \n",
       "8         Saala ldko pe b gandi nazar rkhta h ye toh   \n",
       "9                                                      \n",
       "10                                   <Media omitted>   \n",
       "11                                            🙏🏻🙏🏻😂😂   \n",
       "12                                              😒😒😒😒   \n",
       "13                        Laddu chota bheem khata h😍   \n",
       "14                                               😂😂😂   \n",
       "15                                   <Media omitted>   \n",
       "16                                           Masow🤣🤣   \n",
       "17                              M chla sone😴 gudnyt😴   \n",
       "18                                            Me too   \n",
       "19                                                Gn   "
      ]
     },
     "execution_count": 9,
     "metadata": {},
     "output_type": "execute_result"
    }
   ],
   "source": [
    "df[:20]"
   ]
  },
  {
   "cell_type": "markdown",
   "metadata": {},
   "source": [
    "### Data"
   ]
  },
  {
   "cell_type": "code",
   "execution_count": 6,
   "metadata": {},
   "outputs": [
    {
     "data": {
      "text/plain": [
       "(6025, 3)"
      ]
     },
     "execution_count": 6,
     "metadata": {},
     "output_type": "execute_result"
    }
   ],
   "source": [
    "df.shape"
   ]
  },
  {
   "cell_type": "markdown",
   "metadata": {},
   "source": [
    "### No. of Images, group notifications and dropping them"
   ]
  },
  {
   "cell_type": "code",
   "execution_count": 7,
   "metadata": {},
   "outputs": [
    {
     "data": {
      "text/plain": [
       "(610, 3)"
      ]
     },
     "execution_count": 7,
     "metadata": {},
     "output_type": "execute_result"
    }
   ],
   "source": [
    "images = df[df['msg']==\"<Media omitted> \"] #no. of images, images are represented by <media omitted>\n",
    "images.shape"
   ]
  },
  {
   "cell_type": "code",
   "execution_count": 8,
   "metadata": {},
   "outputs": [
    {
     "data": {
      "text/plain": [
       "(107, 3)"
      ]
     },
     "execution_count": 8,
     "metadata": {},
     "output_type": "execute_result"
    }
   ],
   "source": [
    "grp_notif = df[df['user']==\"grp_notif\"] #no. of grp notifications\n",
    "grp_notif.shape"
   ]
  },
  {
   "cell_type": "code",
   "execution_count": 9,
   "metadata": {},
   "outputs": [],
   "source": [
    "df.drop(images.index, inplace=True) #removing images\n",
    "df.drop(grp_notif.index, inplace=True) #removing grp_notif"
   ]
  },
  {
   "cell_type": "code",
   "execution_count": 10,
   "metadata": {},
   "outputs": [
    {
     "data": {
      "text/plain": [
       "(5308, 3)"
      ]
     },
     "execution_count": 10,
     "metadata": {},
     "output_type": "execute_result"
    }
   ],
   "source": [
    "df.reset_index(inplace=True, drop=True)\n",
    "df.shape"
   ]
  },
  {
   "cell_type": "code",
   "execution_count": 11,
   "metadata": {},
   "outputs": [
    {
     "data": {
      "text/html": [
       "<div>\n",
       "<style scoped>\n",
       "    .dataframe tbody tr th:only-of-type {\n",
       "        vertical-align: middle;\n",
       "    }\n",
       "\n",
       "    .dataframe tbody tr th {\n",
       "        vertical-align: top;\n",
       "    }\n",
       "\n",
       "    .dataframe thead th {\n",
       "        text-align: right;\n",
       "    }\n",
       "</style>\n",
       "<table border=\"1\" class=\"dataframe\">\n",
       "  <thead>\n",
       "    <tr style=\"text-align: right;\">\n",
       "      <th></th>\n",
       "      <th>date_time</th>\n",
       "      <th>user</th>\n",
       "      <th>msg</th>\n",
       "    </tr>\n",
       "  </thead>\n",
       "  <tbody>\n",
       "    <tr>\n",
       "      <th>0</th>\n",
       "      <td>2017-03-20 22:12:00</td>\n",
       "      <td>+91 97170 21451</td>\n",
       "      <td>😁😁</td>\n",
       "    </tr>\n",
       "    <tr>\n",
       "      <th>1</th>\n",
       "      <td>2017-03-21 12:01:00</td>\n",
       "      <td>+91 86838 58555</td>\n",
       "      <td>Abb konsa aane denge tjhe</td>\n",
       "    </tr>\n",
       "    <tr>\n",
       "      <th>2</th>\n",
       "      <td>2017-03-21 12:01:00</td>\n",
       "      <td>ankit (ip)</td>\n",
       "      <td>@918586850740 ni aaya?</td>\n",
       "    </tr>\n",
       "    <tr>\n",
       "      <th>3</th>\n",
       "      <td>2017-03-21 12:01:00</td>\n",
       "      <td>+91 86838 58555</td>\n",
       "      <td>Extempore ho liya</td>\n",
       "    </tr>\n",
       "    <tr>\n",
       "      <th>4</th>\n",
       "      <td>2017-03-21 12:01:00</td>\n",
       "      <td>ankit (ip)</td>\n",
       "      <td>Aane degge✌🏻</td>\n",
       "    </tr>\n",
       "  </tbody>\n",
       "</table>\n",
       "</div>"
      ],
      "text/plain": [
       "            date_time             user                         msg\n",
       "0 2017-03-20 22:12:00  +91 97170 21451                         😁😁 \n",
       "1 2017-03-21 12:01:00  +91 86838 58555  Abb konsa aane denge tjhe \n",
       "2 2017-03-21 12:01:00       ankit (ip)     @918586850740 ni aaya? \n",
       "3 2017-03-21 12:01:00  +91 86838 58555          Extempore ho liya \n",
       "4 2017-03-21 12:01:00       ankit (ip)               Aane degge✌🏻 "
      ]
     },
     "execution_count": 11,
     "metadata": {},
     "output_type": "execute_result"
    }
   ],
   "source": [
    "df.head()"
   ]
  },
  {
   "cell_type": "markdown",
   "metadata": {},
   "source": [
    "## Q 1)\n",
    "## Who is the most active member of the group. Who is the least active. Is it same on weekday weekend?\n",
    "\n",
    "https://pandas.pydata.org/pandas-docs/stable/reference/api/pandas.DatetimeIndex.weekday.html"
   ]
  },
  {
   "cell_type": "markdown",
   "metadata": {},
   "source": [
    "> 1. Get Birth Date"
   ]
  },
  {
   "cell_type": "code",
   "execution_count": 12,
   "metadata": {},
   "outputs": [
    {
     "data": {
      "text/html": [
       "<div>\n",
       "<style scoped>\n",
       "    .dataframe tbody tr th:only-of-type {\n",
       "        vertical-align: middle;\n",
       "    }\n",
       "\n",
       "    .dataframe tbody tr th {\n",
       "        vertical-align: top;\n",
       "    }\n",
       "\n",
       "    .dataframe thead th {\n",
       "        text-align: right;\n",
       "    }\n",
       "</style>\n",
       "<table border=\"1\" class=\"dataframe\">\n",
       "  <thead>\n",
       "    <tr style=\"text-align: right;\">\n",
       "      <th></th>\n",
       "      <th>date_time</th>\n",
       "      <th>user</th>\n",
       "      <th>msg</th>\n",
       "    </tr>\n",
       "  </thead>\n",
       "  <tbody>\n",
       "    <tr>\n",
       "      <th>702</th>\n",
       "      <td>2017-04-10 12:07:00</td>\n",
       "      <td>+91 85878 51712</td>\n",
       "      <td>Happy birthday bhai... GBU..</td>\n",
       "    </tr>\n",
       "    <tr>\n",
       "      <th>704</th>\n",
       "      <td>2017-04-10 12:08:00</td>\n",
       "      <td>priyanka clg</td>\n",
       "      <td>Happy birthday Harman💐🎂</td>\n",
       "    </tr>\n",
       "    <tr>\n",
       "      <th>705</th>\n",
       "      <td>2017-04-10 12:21:00</td>\n",
       "      <td>+91 95400 96186</td>\n",
       "      <td>Happy birthday harman</td>\n",
       "    </tr>\n",
       "    <tr>\n",
       "      <th>707</th>\n",
       "      <td>2017-04-10 12:25:00</td>\n",
       "      <td>Abhishek clg new</td>\n",
       "      <td>Happy birthday Bhai...🎉🎊🎀🎏</td>\n",
       "    </tr>\n",
       "    <tr>\n",
       "      <th>711</th>\n",
       "      <td>2017-04-10 12:32:00</td>\n",
       "      <td>geetanshu (ip)</td>\n",
       "      <td>Happy birthday paaji 😇🎂</td>\n",
       "    </tr>\n",
       "  </tbody>\n",
       "</table>\n",
       "</div>"
      ],
      "text/plain": [
       "              date_time              user                            msg\n",
       "702 2017-04-10 12:07:00   +91 85878 51712  Happy birthday bhai... GBU.. \n",
       "704 2017-04-10 12:08:00      priyanka clg       Happy birthday Harman💐🎂 \n",
       "705 2017-04-10 12:21:00   +91 95400 96186         Happy birthday harman \n",
       "707 2017-04-10 12:25:00  Abhishek clg new    Happy birthday Bhai...🎉🎊🎀🎏 \n",
       "711 2017-04-10 12:32:00    geetanshu (ip)       Happy birthday paaji 😇🎂 "
      ]
     },
     "execution_count": 12,
     "metadata": {},
     "output_type": "execute_result"
    }
   ],
   "source": [
    "df[df.msg.str.contains('birthday')].head()"
   ]
  },
  {
   "cell_type": "markdown",
   "metadata": {},
   "source": [
    "> 2. longest inactive person"
   ]
  },
  {
   "cell_type": "code",
   "execution_count": 13,
   "metadata": {},
   "outputs": [
    {
     "name": "stdout",
     "output_type": "stream",
     "text": [
      "420\n",
      "0\n",
      "2\n",
      "1\n",
      "1\n",
      "282\n",
      "511\n",
      "4\n",
      "0\n",
      "2\n",
      "0\n",
      "0\n",
      "5\n",
      "0\n",
      "404\n",
      "3\n",
      "7\n",
      "54\n",
      "52\n",
      "7\n",
      "34\n",
      "42\n",
      "67\n",
      "0\n",
      "5\n",
      "1\n",
      "97\n",
      "5\n",
      "12\n",
      "47\n",
      "7\n",
      "112\n",
      "21\n",
      "65\n",
      "7\n",
      "167\n",
      "2\n",
      "23\n",
      "72\n",
      "97\n",
      "103\n",
      "64\n",
      "598\n",
      "6\n",
      "21\n",
      "327\n",
      "209\n",
      "53\n",
      "15\n",
      "5\n",
      "1\n",
      "2\n",
      "4\n",
      "3\n",
      "20\n",
      "42\n",
      "23\n",
      "30\n",
      "4\n",
      "3\n",
      "46\n",
      "15\n",
      "22\n",
      "46\n",
      "1\n",
      "0\n",
      "4\n",
      "0\n",
      "0\n",
      "1\n",
      "0\n",
      "3\n",
      "427\n",
      "30\n",
      "7\n",
      "22\n",
      "154\n",
      "61\n",
      "104\n",
      "93\n",
      "8\n",
      "2\n",
      "0\n",
      "0\n",
      "0\n",
      "3\n"
     ]
    }
   ],
   "source": [
    "c = 0\n",
    "for i in df['user']:\n",
    "    if i !=\"geetanshu (ip)\":\n",
    "        c = c + 1\n",
    "    else:\n",
    "        print(c)\n",
    "        c = 0\n",
    "        \n",
    "        \n",
    "# that means the person is not active at that particular msg index"
   ]
  },
  {
   "cell_type": "markdown",
   "metadata": {},
   "source": [
    "> Who is the most active member of the group. Who is the least active. Is it same on weekday weekend?"
   ]
  },
  {
   "cell_type": "code",
   "execution_count": 15,
   "metadata": {},
   "outputs": [
    {
     "data": {
      "text/plain": [
       "user\n",
       "ankit (ip)           987\n",
       "+91 86838 58555      959\n",
       "Arshpreet clg        593\n",
       "Rainy (ip)           360\n",
       "harsh (ip)           342\n",
       "+91 97170 21451      212\n",
       "Jasmeet clg          207\n",
       "Aman sir             177\n",
       "akshay (clg)         111\n",
       "+91 98912 39561      106\n",
       "Divyansh Clg         101\n",
       "khim (ip)             97\n",
       "anisha clg new        96\n",
       "geetanshu (ip)        86\n",
       "Abhishek clg new      81\n",
       "Rachit Clg            81\n",
       "priyanka clg          74\n",
       "shubham bisht clg     67\n",
       "+91 96503 88232       65\n",
       "danish clg            56\n",
       "Suraj clg             55\n",
       "+91 97187 85832       55\n",
       "jagpreet clg          54\n",
       "Param Clg             39\n",
       "+91 95400 96186       31\n",
       "+91 85878 51712       26\n",
       "Rahul (ip)            21\n",
       "Sandeep Clg           21\n",
       "aakash😉               18\n",
       "+91 95821 09417       18\n",
       "+91 78386 74714       18\n",
       "Raman clg             14\n",
       "+91 88268 81006       14\n",
       "+91 85869 24394       10\n",
       "+91 75036 90358       10\n",
       "Durghesh Clg           8\n",
       "Harman Clg             8\n",
       "+91 99689 60593        7\n",
       "Suraj Clg New          7\n",
       "khim ip 2              5\n",
       "niranjan (ip)          4\n",
       "+91 99993 37057        3\n",
       "+91 99686 47566        2\n",
       "+91 99996 81576        2\n",
       "Name: msg, dtype: int64"
      ]
     },
     "execution_count": 15,
     "metadata": {},
     "output_type": "execute_result"
    }
   ],
   "source": [
    "df.groupby(\"user\")[\"msg\"].count().sort_values(ascending=False)"
   ]
  },
  {
   "cell_type": "code",
   "execution_count": 16,
   "metadata": {},
   "outputs": [],
   "source": [
    "df['weekday'] = df['date_time'].apply(lambda x: x.day_name()) # can use day_name or weekday from datetime "
   ]
  },
  {
   "cell_type": "code",
   "execution_count": 17,
   "metadata": {},
   "outputs": [
    {
     "data": {
      "text/plain": [
       "Thursday     1047\n",
       "Wednesday     893\n",
       "Monday        863\n",
       "Tuesday       734\n",
       "Friday        711\n",
       "Sunday        684\n",
       "Saturday      376\n",
       "Name: weekday, dtype: int64"
      ]
     },
     "execution_count": 17,
     "metadata": {},
     "output_type": "execute_result"
    }
   ],
   "source": [
    "df.weekday.value_counts(sort=True)"
   ]
  },
  {
   "cell_type": "code",
   "execution_count": 18,
   "metadata": {},
   "outputs": [],
   "source": [
    "df['is_weekend'] = df.weekday.isin(['Sunday', 'Saturday'])"
   ]
  },
  {
   "cell_type": "code",
   "execution_count": 19,
   "metadata": {},
   "outputs": [
    {
     "data": {
      "text/html": [
       "<div>\n",
       "<style scoped>\n",
       "    .dataframe tbody tr th:only-of-type {\n",
       "        vertical-align: middle;\n",
       "    }\n",
       "\n",
       "    .dataframe tbody tr th {\n",
       "        vertical-align: top;\n",
       "    }\n",
       "\n",
       "    .dataframe thead th {\n",
       "        text-align: right;\n",
       "    }\n",
       "</style>\n",
       "<table border=\"1\" class=\"dataframe\">\n",
       "  <thead>\n",
       "    <tr style=\"text-align: right;\">\n",
       "      <th></th>\n",
       "      <th>date_time</th>\n",
       "      <th>user</th>\n",
       "      <th>msg</th>\n",
       "      <th>weekday</th>\n",
       "      <th>is_weekend</th>\n",
       "    </tr>\n",
       "  </thead>\n",
       "  <tbody>\n",
       "    <tr>\n",
       "      <th>0</th>\n",
       "      <td>2017-03-20 22:12:00</td>\n",
       "      <td>+91 97170 21451</td>\n",
       "      <td>😁😁</td>\n",
       "      <td>Monday</td>\n",
       "      <td>False</td>\n",
       "    </tr>\n",
       "    <tr>\n",
       "      <th>1</th>\n",
       "      <td>2017-03-21 12:01:00</td>\n",
       "      <td>+91 86838 58555</td>\n",
       "      <td>Abb konsa aane denge tjhe</td>\n",
       "      <td>Tuesday</td>\n",
       "      <td>False</td>\n",
       "    </tr>\n",
       "    <tr>\n",
       "      <th>2</th>\n",
       "      <td>2017-03-21 12:01:00</td>\n",
       "      <td>ankit (ip)</td>\n",
       "      <td>@918586850740 ni aaya?</td>\n",
       "      <td>Tuesday</td>\n",
       "      <td>False</td>\n",
       "    </tr>\n",
       "    <tr>\n",
       "      <th>3</th>\n",
       "      <td>2017-03-21 12:01:00</td>\n",
       "      <td>+91 86838 58555</td>\n",
       "      <td>Extempore ho liya</td>\n",
       "      <td>Tuesday</td>\n",
       "      <td>False</td>\n",
       "    </tr>\n",
       "    <tr>\n",
       "      <th>4</th>\n",
       "      <td>2017-03-21 12:01:00</td>\n",
       "      <td>ankit (ip)</td>\n",
       "      <td>Aane degge✌🏻</td>\n",
       "      <td>Tuesday</td>\n",
       "      <td>False</td>\n",
       "    </tr>\n",
       "  </tbody>\n",
       "</table>\n",
       "</div>"
      ],
      "text/plain": [
       "            date_time             user                         msg  weekday  \\\n",
       "0 2017-03-20 22:12:00  +91 97170 21451                         😁😁    Monday   \n",
       "1 2017-03-21 12:01:00  +91 86838 58555  Abb konsa aane denge tjhe   Tuesday   \n",
       "2 2017-03-21 12:01:00       ankit (ip)     @918586850740 ni aaya?   Tuesday   \n",
       "3 2017-03-21 12:01:00  +91 86838 58555          Extempore ho liya   Tuesday   \n",
       "4 2017-03-21 12:01:00       ankit (ip)               Aane degge✌🏻   Tuesday   \n",
       "\n",
       "   is_weekend  \n",
       "0       False  \n",
       "1       False  \n",
       "2       False  \n",
       "3       False  \n",
       "4       False  "
      ]
     },
     "execution_count": 19,
     "metadata": {},
     "output_type": "execute_result"
    }
   ],
   "source": [
    "df.head()"
   ]
  },
  {
   "cell_type": "markdown",
   "metadata": {},
   "source": [
    "## Q 2)\n",
    "## Count of all the emoticons that i have used till date."
   ]
  },
  {
   "cell_type": "code",
   "execution_count": 20,
   "metadata": {},
   "outputs": [
    {
     "data": {
      "text/plain": [
       "array(['+91 97170 21451', '+91 86838 58555', 'ankit (ip)', 'akshay (clg)',\n",
       "       'Arshpreet clg', 'anisha clg new', '+91 96503 88232',\n",
       "       'Divyansh Clg', 'Jasmeet clg', 'harsh (ip)', '+91 97187 85832',\n",
       "       'Rainy (ip)', 'danish clg', 'Sandeep Clg', 'Aman sir', 'Param Clg',\n",
       "       '+91 88268 81006', 'Abhishek clg new', 'priyanka clg',\n",
       "       '+91 98912 39561', '+91 99689 60593', '+91 75036 90358',\n",
       "       'Rachit Clg', '+91 95821 09417', '+91 99686 47566',\n",
       "       'shubham bisht clg', 'aakash😉', 'Rahul (ip)', 'geetanshu (ip)',\n",
       "       'jagpreet clg', '+91 78386 74714', '+91 85878 51712',\n",
       "       '+91 95400 96186', 'Harman Clg', 'khim (ip)', 'Suraj clg',\n",
       "       'Raman clg', '+91 85869 24394', '+91 99996 81576', 'niranjan (ip)',\n",
       "       'Durghesh Clg', 'khim ip 2', '+91 99993 37057', 'Suraj Clg New'],\n",
       "      dtype=object)"
      ]
     },
     "execution_count": 20,
     "metadata": {},
     "output_type": "execute_result"
    }
   ],
   "source": [
    "df[\"user\"].unique()"
   ]
  },
  {
   "cell_type": "code",
   "execution_count": 21,
   "metadata": {},
   "outputs": [],
   "source": [
    "me = \"ankit (ip)\""
   ]
  },
  {
   "cell_type": "code",
   "execution_count": 22,
   "metadata": {},
   "outputs": [],
   "source": [
    "emoji_ctr = Counter()\n",
    "emojis_list = map(lambda x: ''.join(x.split()), emoji.UNICODE_EMOJI.keys())\n",
    "r = re.compile('|'.join(re.escape(p) for p in emojis_list))\n",
    "for idx, row in df.iterrows():\n",
    "    if row[\"user\"] == me:\n",
    "        emojis_found = r.findall(row[\"msg\"])\n",
    "        for emoji_found in emojis_found:\n",
    "            emoji_ctr[emoji_found] += 1"
   ]
  },
  {
   "cell_type": "code",
   "execution_count": 52,
   "metadata": {},
   "outputs": [
    {
     "name": "stdout",
     "output_type": "stream",
     "text": [
      "🤣 - 479\n",
      "😒 - 359\n",
      "😂 - 293\n",
      "🏻 - 119\n",
      "♂ - 57\n",
      "☺ - 45\n",
      "🤦 - 43\n",
      "😅 - 42\n",
      "😌 - 39\n",
      "😍 - 30\n",
      "😏 - 28\n",
      "😆 - 21\n",
      "😄 - 20\n",
      "😪 - 20\n",
      "👊 - 19\n",
      "🤪 - 17\n",
      "🙂 - 16\n",
      "🤭 - 14\n",
      "😊 - 12\n",
      "😎 - 11\n",
      "😓 - 9\n",
      "😶 - 9\n",
      "🙋 - 9\n",
      "😡 - 9\n",
      "😼 - 9\n",
      "😝 - 8\n",
      "😕 - 8\n",
      "😁 - 8\n",
      "🙄 - 7\n",
      "🙏 - 7\n",
      "✌ - 6\n",
      "👇 - 6\n",
      "🙊 - 5\n",
      "🚶 - 5\n",
      "🤚 - 5\n",
      "😭 - 5\n",
      "🤘 - 4\n",
      "🙁 - 4\n",
      "😇 - 4\n",
      "😋 - 3\n",
      "😜 - 3\n",
      "🤓 - 3\n",
      "🤔 - 3\n",
      "👍 - 3\n",
      "😀 - 3\n",
      "😖 - 3\n",
      "🤷 - 3\n",
      "😠 - 3\n",
      "😴 - 2\n",
      "😃 - 2\n",
      "😣 - 2\n",
      "🙈 - 2\n",
      "😤 - 2\n",
      "🙆 - 2\n",
      "🖕 - 2\n",
      "✋ - 2\n",
      "🍾 - 2\n",
      "🎂 - 2\n",
      "😘 - 2\n",
      "☹ - 1\n",
      "📱 - 1\n",
      "😛 - 1\n",
      "😥 - 1\n",
      "🏃 - 1\n",
      "👆 - 1\n",
      "👀 - 1\n",
      "🥃 - 1\n",
      "🥂 - 1\n",
      "🍻 - 1\n",
      "🍺 - 1\n",
      "🤫 - 1\n",
      "🙇 - 1\n"
     ]
    }
   ],
   "source": [
    "for item in emoji_ctr.most_common():    # we use emoji_ctr.most_common(27) ..no of emoji\n",
    "    print(item[0] + \" - \" + str(item[1]))"
   ]
  },
  {
   "cell_type": "code",
   "execution_count": null,
   "metadata": {},
   "outputs": [],
   "source": []
  }
 ],
 "metadata": {
  "kernelspec": {
   "display_name": "Python 3",
   "language": "python",
   "name": "python3"
  },
  "language_info": {
   "codemirror_mode": {
    "name": "ipython",
    "version": 3
   },
   "file_extension": ".py",
   "mimetype": "text/x-python",
   "name": "python",
   "nbconvert_exporter": "python",
   "pygments_lexer": "ipython3",
   "version": "3.7.6"
  }
 },
 "nbformat": 4,
 "nbformat_minor": 2
}
